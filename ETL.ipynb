{
 "cells": [
  {
   "attachments": {},
   "cell_type": "markdown",
   "metadata": {},
   "source": [
    "# ETL"
   ]
  },
  {
   "attachments": {},
   "cell_type": "markdown",
   "metadata": {},
   "source": [
    "## Librerías utilizadas"
   ]
  },
  {
   "cell_type": "code",
   "execution_count": 2,
   "metadata": {},
   "outputs": [],
   "source": [
    "import pandas as pd\n",
    "import numpy as np\n",
    "import ast # Librería para generar funciones que permitan transformar los datos anidados\n",
    "from datetime import date"
   ]
  },
  {
   "attachments": {},
   "cell_type": "markdown",
   "metadata": {},
   "source": [
    "## Lectura de archivo .csv"
   ]
  },
  {
   "cell_type": "code",
   "execution_count": 3,
   "metadata": {},
   "outputs": [
    {
     "name": "stderr",
     "output_type": "stream",
     "text": [
      "C:\\Users\\Usuario\\AppData\\Local\\Temp\\ipykernel_2496\\3827546478.py:1: DtypeWarning: Columns (10) have mixed types. Specify dtype option on import or set low_memory=False.\n",
      "  movies = pd.read_csv(\"./movies_dataset.csv\")\n"
     ]
    }
   ],
   "source": [
    "movies = pd.read_csv(\"./movies_dataset.csv\")"
   ]
  },
  {
   "attachments": {},
   "cell_type": "markdown",
   "metadata": {},
   "source": [
    "## Funciones utilizadas para los datos anidados"
   ]
  },
  {
   "cell_type": "code",
   "execution_count": 4,
   "metadata": {},
   "outputs": [],
   "source": [
    "'''\n",
    "    Funciones que permiten extraer los datos anidados de los campos: genres(los generos asociados a las peliculas), \n",
    "    production_companies(compañias productoras), production_countries(paises donde se produjerón las peliculas), \n",
    "    spoken_languages(idiomas que se hablan en las peliculas).\n",
    "'''\n",
    "\n",
    "'''\n",
    "Función que permite convertir los campos anidados en listas\n",
    "'''\n",
    "def convertir(obj):\n",
    "    if isinstance(obj, str) and '{' in obj:\n",
    "        cL = []\n",
    "        for i in  ast.literal_eval(obj):\n",
    "            cL.append(i['name']);\n",
    "        return cL\n",
    "\n",
    "    \n",
    "'''\n",
    "    Función que va a permitir extraer los datos de las franquicias o series a la que pertenece \n",
    "    la pelicula (belongs_to_collection), guardada como diccionario.\n",
    "'''\n",
    "def convertir2(obj):\n",
    "    if isinstance(obj, str) and '{' in obj:\n",
    "        dic = ast.literal_eval(obj)\n",
    "        return dic['name']\n",
    "\n",
    " \n",
    "'''\n",
    "    Función que permite converir los días de la semanas\n",
    "'''   \n",
    "def dia_sem(clave):\n",
    "    dia = {1:'Lunes', 2:'Martes', 3:'Miércoles', 4:'Jueves', 5:'Viernes', 6:'Sábado', 7:'Domingo'}\n",
    "    return dia[clave]\n",
    "\n",
    "'''\n",
    "    Función que permite converir los meses númericos del año a formato texto\n",
    "'''   \n",
    "def meses(clave):\n",
    "    mesesA = {1:'Enero', 2:'Febrero', 3:'Marzo', 4:'Abril', 5:'Mayo', 6:'Junio', 7:'Julio', 8:'Agosto', 9:'Septiembre', 10:'Octubre', 11:'Noviembre',12:'Diciembre'}\n",
    "    return mesesA[clave]\n"
   ]
  },
  {
   "attachments": {},
   "cell_type": "markdown",
   "metadata": {},
   "source": [
    "## Transformar datos anidados"
   ]
  },
  {
   "cell_type": "code",
   "execution_count": 5,
   "metadata": {},
   "outputs": [],
   "source": [
    "# Transformación de los datos anidados\n",
    "movies['genres'] = movies['genres'].apply(convertir) # Generos de las peliculas\n",
    "movies['production_companies'] = movies['production_companies'].apply(convertir) # Compañias productoras\n",
    "movies['belongs_to_collection'] = movies['belongs_to_collection'].apply(convertir2) # Franquicias\n",
    "movies['production_countries'] = movies['production_countries'].apply(convertir) # Paises productores\n",
    "movies['spoken_languages'] = movies['spoken_languages'].apply(convertir) # Idiomas de las peliculas"
   ]
  },
  {
   "cell_type": "code",
   "execution_count": 6,
   "metadata": {},
   "outputs": [],
   "source": [
    "# Rellenar espacios en blancos de paises y compañias para que las funciones trabajen bien\n",
    "movies['production_companies'] = movies['production_companies'].fillna('Sin datos')\n",
    "movies['production_countries'] = movies['production_countries'].fillna('Sin datos')"
   ]
  },
  {
   "attachments": {},
   "cell_type": "markdown",
   "metadata": {},
   "source": [
    "## Rellenar valores nulos de \"revenue y budget\" con ceros"
   ]
  },
  {
   "cell_type": "code",
   "execution_count": 7,
   "metadata": {},
   "outputs": [],
   "source": [
    "# Convierte el presupuesto de la pelicula (budget) en float\n",
    "movies['budget'] = pd.to_numeric(movies['budget'], errors='coerce')\n",
    "\n",
    "# Reemplaza los valores nulos de \"revenue y Budget\" con 0\n",
    "movies[['budget', 'revenue']] = movies[['budget', 'revenue']].fillna(0)"
   ]
  },
  {
   "attachments": {},
   "cell_type": "markdown",
   "metadata": {},
   "source": [
    "## Cambiar formato de fecha y eliminar valores nulos"
   ]
  },
  {
   "cell_type": "code",
   "execution_count": 8,
   "metadata": {},
   "outputs": [],
   "source": [
    "# Se cambia el tipo objeto por tipo fecha\n",
    "movies['release_date'] = pd.to_datetime(movies['release_date'], format='%Y-%m-%d', errors='coerce')\n",
    "\n",
    "# Elina las fechas con valor nulo y se resetean los indices\n",
    "movies = movies.dropna(subset=['release_date']).reset_index(drop=True)"
   ]
  },
  {
   "attachments": {},
   "cell_type": "markdown",
   "metadata": {},
   "source": [
    "## Crear columna de año de la fecha de estreno (release_year) "
   ]
  },
  {
   "cell_type": "code",
   "execution_count": 9,
   "metadata": {},
   "outputs": [
    {
     "name": "stderr",
     "output_type": "stream",
     "text": [
      "C:\\Users\\Usuario\\AppData\\Local\\Temp\\ipykernel_2496\\1475138946.py:15: SettingWithCopyWarning: \n",
      "A value is trying to be set on a copy of a slice from a DataFrame\n",
      "\n",
      "See the caveats in the documentation: https://pandas.pydata.org/pandas-docs/stable/user_guide/indexing.html#returning-a-view-versus-a-copy\n",
      "  movies['release_day'][i]= dia_sem(numero_dia)\n"
     ]
    }
   ],
   "source": [
    "# Crear columna release_year\n",
    "movies['release_year'] = pd.DatetimeIndex(movies['release_date']).year\n",
    "\n",
    "# Se crear una columna para almacenar el mes (release_month)\n",
    "movies['release_month'] = pd.DatetimeIndex(movies['release_date']).month\n",
    "# Se le aplica la función meses para convertir los números de los meses en letras\n",
    "movies['release_month'] = movies['release_month'].apply(meses)\n",
    "\n",
    "# Se crea una columna día (release_day)\n",
    "movies['release_day'] = pd.DatetimeIndex(movies['release_date']).day\n",
    "# Se genera un for para convertir los días de la semana en letras\n",
    "i = 0\n",
    "for i in range(len(movies)):\n",
    "    numero_dia = date.isoweekday(movies['release_date'][i])\n",
    "    movies['release_day'][i]= dia_sem(numero_dia)"
   ]
  },
  {
   "attachments": {},
   "cell_type": "markdown",
   "metadata": {},
   "source": [
    "## Crear columna retorno de inversión (return)"
   ]
  },
  {
   "cell_type": "code",
   "execution_count": 10,
   "metadata": {},
   "outputs": [],
   "source": [
    "'''\n",
    "    Se crea la columna 'return' mediante un where en numpy que nos permite \n",
    "    colocar en cero el resultado de return si revenue o budget tienen valor 0. \n",
    "'''\n",
    "movies['return'] = np.where((movies['budget']==0) | (movies['revenue']==0), 0, movies['revenue']/movies['budget'])"
   ]
  },
  {
   "attachments": {},
   "cell_type": "markdown",
   "metadata": {},
   "source": [
    "## Eliminar columnas requeridas"
   ]
  },
  {
   "cell_type": "code",
   "execution_count": 11,
   "metadata": {},
   "outputs": [],
   "source": [
    "# Se genera nuevamente la data sin las columnas especificadas en el .drop\n",
    "movies = movies.drop(columns=['video', 'imdb_id', 'adult', 'original_title', 'vote_count', 'poster_path', 'homepage'])"
   ]
  },
  {
   "cell_type": "code",
   "execution_count": 12,
   "metadata": {},
   "outputs": [
    {
     "data": {
      "text/html": [
       "<div>\n",
       "<style scoped>\n",
       "    .dataframe tbody tr th:only-of-type {\n",
       "        vertical-align: middle;\n",
       "    }\n",
       "\n",
       "    .dataframe tbody tr th {\n",
       "        vertical-align: top;\n",
       "    }\n",
       "\n",
       "    .dataframe thead th {\n",
       "        text-align: right;\n",
       "    }\n",
       "</style>\n",
       "<table border=\"1\" class=\"dataframe\">\n",
       "  <thead>\n",
       "    <tr style=\"text-align: right;\">\n",
       "      <th></th>\n",
       "      <th>belongs_to_collection</th>\n",
       "      <th>budget</th>\n",
       "      <th>genres</th>\n",
       "      <th>id</th>\n",
       "      <th>original_language</th>\n",
       "      <th>overview</th>\n",
       "      <th>popularity</th>\n",
       "      <th>production_companies</th>\n",
       "      <th>production_countries</th>\n",
       "      <th>release_date</th>\n",
       "      <th>...</th>\n",
       "      <th>runtime</th>\n",
       "      <th>spoken_languages</th>\n",
       "      <th>status</th>\n",
       "      <th>tagline</th>\n",
       "      <th>title</th>\n",
       "      <th>vote_average</th>\n",
       "      <th>release_year</th>\n",
       "      <th>release_month</th>\n",
       "      <th>release_day</th>\n",
       "      <th>return</th>\n",
       "    </tr>\n",
       "  </thead>\n",
       "  <tbody>\n",
       "    <tr>\n",
       "      <th>0</th>\n",
       "      <td>Toy Story Collection</td>\n",
       "      <td>30000000.0</td>\n",
       "      <td>[Animation, Comedy, Family]</td>\n",
       "      <td>862</td>\n",
       "      <td>en</td>\n",
       "      <td>Led by Woody, Andy's toys live happily in his ...</td>\n",
       "      <td>21.946943</td>\n",
       "      <td>[Pixar Animation Studios]</td>\n",
       "      <td>[United States of America]</td>\n",
       "      <td>1995-10-30</td>\n",
       "      <td>...</td>\n",
       "      <td>81.0</td>\n",
       "      <td>[English]</td>\n",
       "      <td>Released</td>\n",
       "      <td>NaN</td>\n",
       "      <td>Toy Story</td>\n",
       "      <td>7.7</td>\n",
       "      <td>1995</td>\n",
       "      <td>Octubre</td>\n",
       "      <td>Lunes</td>\n",
       "      <td>12.451801</td>\n",
       "    </tr>\n",
       "    <tr>\n",
       "      <th>1</th>\n",
       "      <td>None</td>\n",
       "      <td>65000000.0</td>\n",
       "      <td>[Adventure, Fantasy, Family]</td>\n",
       "      <td>8844</td>\n",
       "      <td>en</td>\n",
       "      <td>When siblings Judy and Peter discover an encha...</td>\n",
       "      <td>17.015539</td>\n",
       "      <td>[TriStar Pictures, Teitler Film, Interscope Co...</td>\n",
       "      <td>[United States of America]</td>\n",
       "      <td>1995-12-15</td>\n",
       "      <td>...</td>\n",
       "      <td>104.0</td>\n",
       "      <td>[English, Français]</td>\n",
       "      <td>Released</td>\n",
       "      <td>Roll the dice and unleash the excitement!</td>\n",
       "      <td>Jumanji</td>\n",
       "      <td>6.9</td>\n",
       "      <td>1995</td>\n",
       "      <td>Diciembre</td>\n",
       "      <td>Viernes</td>\n",
       "      <td>4.043035</td>\n",
       "    </tr>\n",
       "    <tr>\n",
       "      <th>2</th>\n",
       "      <td>Grumpy Old Men Collection</td>\n",
       "      <td>0.0</td>\n",
       "      <td>[Romance, Comedy]</td>\n",
       "      <td>15602</td>\n",
       "      <td>en</td>\n",
       "      <td>A family wedding reignites the ancient feud be...</td>\n",
       "      <td>11.7129</td>\n",
       "      <td>[Warner Bros., Lancaster Gate]</td>\n",
       "      <td>[United States of America]</td>\n",
       "      <td>1995-12-22</td>\n",
       "      <td>...</td>\n",
       "      <td>101.0</td>\n",
       "      <td>[English]</td>\n",
       "      <td>Released</td>\n",
       "      <td>Still Yelling. Still Fighting. Still Ready for...</td>\n",
       "      <td>Grumpier Old Men</td>\n",
       "      <td>6.5</td>\n",
       "      <td>1995</td>\n",
       "      <td>Diciembre</td>\n",
       "      <td>Viernes</td>\n",
       "      <td>0.000000</td>\n",
       "    </tr>\n",
       "    <tr>\n",
       "      <th>3</th>\n",
       "      <td>None</td>\n",
       "      <td>16000000.0</td>\n",
       "      <td>[Comedy, Drama, Romance]</td>\n",
       "      <td>31357</td>\n",
       "      <td>en</td>\n",
       "      <td>Cheated on, mistreated and stepped on, the wom...</td>\n",
       "      <td>3.859495</td>\n",
       "      <td>[Twentieth Century Fox Film Corporation]</td>\n",
       "      <td>[United States of America]</td>\n",
       "      <td>1995-12-22</td>\n",
       "      <td>...</td>\n",
       "      <td>127.0</td>\n",
       "      <td>[English]</td>\n",
       "      <td>Released</td>\n",
       "      <td>Friends are the people who let you be yourself...</td>\n",
       "      <td>Waiting to Exhale</td>\n",
       "      <td>6.1</td>\n",
       "      <td>1995</td>\n",
       "      <td>Diciembre</td>\n",
       "      <td>Viernes</td>\n",
       "      <td>5.090760</td>\n",
       "    </tr>\n",
       "    <tr>\n",
       "      <th>4</th>\n",
       "      <td>Father of the Bride Collection</td>\n",
       "      <td>0.0</td>\n",
       "      <td>[Comedy]</td>\n",
       "      <td>11862</td>\n",
       "      <td>en</td>\n",
       "      <td>Just when George Banks has recovered from his ...</td>\n",
       "      <td>8.387519</td>\n",
       "      <td>[Sandollar Productions, Touchstone Pictures]</td>\n",
       "      <td>[United States of America]</td>\n",
       "      <td>1995-02-10</td>\n",
       "      <td>...</td>\n",
       "      <td>106.0</td>\n",
       "      <td>[English]</td>\n",
       "      <td>Released</td>\n",
       "      <td>Just When His World Is Back To Normal... He's ...</td>\n",
       "      <td>Father of the Bride Part II</td>\n",
       "      <td>5.7</td>\n",
       "      <td>1995</td>\n",
       "      <td>Febrero</td>\n",
       "      <td>Viernes</td>\n",
       "      <td>0.000000</td>\n",
       "    </tr>\n",
       "  </tbody>\n",
       "</table>\n",
       "<p>5 rows × 21 columns</p>\n",
       "</div>"
      ],
      "text/plain": [
       "            belongs_to_collection      budget                        genres  \\\n",
       "0            Toy Story Collection  30000000.0   [Animation, Comedy, Family]   \n",
       "1                            None  65000000.0  [Adventure, Fantasy, Family]   \n",
       "2       Grumpy Old Men Collection         0.0             [Romance, Comedy]   \n",
       "3                            None  16000000.0      [Comedy, Drama, Romance]   \n",
       "4  Father of the Bride Collection         0.0                      [Comedy]   \n",
       "\n",
       "      id original_language                                           overview  \\\n",
       "0    862                en  Led by Woody, Andy's toys live happily in his ...   \n",
       "1   8844                en  When siblings Judy and Peter discover an encha...   \n",
       "2  15602                en  A family wedding reignites the ancient feud be...   \n",
       "3  31357                en  Cheated on, mistreated and stepped on, the wom...   \n",
       "4  11862                en  Just when George Banks has recovered from his ...   \n",
       "\n",
       "  popularity                               production_companies  \\\n",
       "0  21.946943                          [Pixar Animation Studios]   \n",
       "1  17.015539  [TriStar Pictures, Teitler Film, Interscope Co...   \n",
       "2    11.7129                     [Warner Bros., Lancaster Gate]   \n",
       "3   3.859495           [Twentieth Century Fox Film Corporation]   \n",
       "4   8.387519       [Sandollar Productions, Touchstone Pictures]   \n",
       "\n",
       "         production_countries release_date  ...  runtime     spoken_languages  \\\n",
       "0  [United States of America]   1995-10-30  ...     81.0            [English]   \n",
       "1  [United States of America]   1995-12-15  ...    104.0  [English, Français]   \n",
       "2  [United States of America]   1995-12-22  ...    101.0            [English]   \n",
       "3  [United States of America]   1995-12-22  ...    127.0            [English]   \n",
       "4  [United States of America]   1995-02-10  ...    106.0            [English]   \n",
       "\n",
       "     status                                            tagline  \\\n",
       "0  Released                                                NaN   \n",
       "1  Released          Roll the dice and unleash the excitement!   \n",
       "2  Released  Still Yelling. Still Fighting. Still Ready for...   \n",
       "3  Released  Friends are the people who let you be yourself...   \n",
       "4  Released  Just When His World Is Back To Normal... He's ...   \n",
       "\n",
       "                         title vote_average  release_year  release_month  \\\n",
       "0                    Toy Story          7.7          1995        Octubre   \n",
       "1                      Jumanji          6.9          1995      Diciembre   \n",
       "2             Grumpier Old Men          6.5          1995      Diciembre   \n",
       "3            Waiting to Exhale          6.1          1995      Diciembre   \n",
       "4  Father of the Bride Part II          5.7          1995        Febrero   \n",
       "\n",
       "  release_day     return  \n",
       "0       Lunes  12.451801  \n",
       "1     Viernes   4.043035  \n",
       "2     Viernes   0.000000  \n",
       "3     Viernes   5.090760  \n",
       "4     Viernes   0.000000  \n",
       "\n",
       "[5 rows x 21 columns]"
      ]
     },
     "execution_count": 12,
     "metadata": {},
     "output_type": "execute_result"
    }
   ],
   "source": [
    "movies.head()"
   ]
  },
  {
   "attachments": {},
   "cell_type": "markdown",
   "metadata": {},
   "source": [
    "## Copia del dataset ya modificado"
   ]
  },
  {
   "cell_type": "code",
   "execution_count": 13,
   "metadata": {},
   "outputs": [],
   "source": [
    "movies.reset_index().to_csv('mv_dat_mod.csv', header = True, index=False)"
   ]
  }
 ],
 "metadata": {
  "kernelspec": {
   "display_name": "Python 3",
   "language": "python",
   "name": "python3"
  },
  "language_info": {
   "codemirror_mode": {
    "name": "ipython",
    "version": 3
   },
   "file_extension": ".py",
   "mimetype": "text/x-python",
   "name": "python",
   "nbconvert_exporter": "python",
   "pygments_lexer": "ipython3",
   "version": "3.11.1"
  },
  "orig_nbformat": 4
 },
 "nbformat": 4,
 "nbformat_minor": 2
}
