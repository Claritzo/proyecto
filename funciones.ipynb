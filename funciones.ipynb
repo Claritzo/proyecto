{
 "cells": [
  {
   "attachments": {},
   "cell_type": "markdown",
   "metadata": {},
   "source": [
    "## Funciones para los endpoints que se consumirán en la API"
   ]
  },
  {
   "cell_type": "code",
   "execution_count": null,
   "metadata": {},
   "outputs": [],
   "source": [
    "# Función que retorna la cantidad de películas que se estrenaron en un mes\n",
    "\n",
    "def peliculas_mes(mes):\n",
    "    mes = mes.capitalize()\n",
    "    cantidad = movies.loc[movies['release_month'] == mes, 'title'].count()\n",
    "    return {'Mes':mes, 'Cantidad de Peliculas':cantidad}"
   ]
  },
  {
   "cell_type": "code",
   "execution_count": null,
   "metadata": {},
   "outputs": [],
   "source": [
    "# Función que retorna la cantidad de películas que se estrenaron ese día de la semana.\n",
    "def peliculas_dia(dia):\n",
    "    dia = dia.capitalize()\n",
    "    cantidad = movies.loc[movies['release_day'] == dia, 'title'].count()\n",
    "    return {'Día':dia, \n",
    "            'Cantidad de Peliculas':cantidad}"
   ]
  },
  {
   "cell_type": "code",
   "execution_count": null,
   "metadata": {},
   "outputs": [],
   "source": [
    "# Función que retorna la cantidad de películas, ganancia total y promedio de una franquicia.\n",
    "def franquicia(franquicia):\n",
    "    peliculas = (movies[movies['belongs_to_collection'] == franquicia]) \n",
    "    cantidad = peliculas.shape[0]\n",
    "    ganancia_total = peliculas['revenue'].sum()\n",
    "    ganancia_promedio = peliculas['revenue'].mean()\n",
    "    return {'Franquicia': franquicia, 'cantidad':cantidad, 'ganancia_total':ganancia_total, 'Ganancia_Promedio':ganancia_promedio}"
   ]
  },
  {
   "cell_type": "code",
   "execution_count": null,
   "metadata": {},
   "outputs": [],
   "source": [
    "# Función que retorna la cantidad de películas producidas en un país especificado.\n",
    "def peliculas_pais(pais):\n",
    "    # se convierte la entrada en minúsculas \n",
    "    pais = pais.lower()\n",
    "    cantidad = movies[movies['production_countries'].apply(lambda x:pais in [p.lower() for p in x])]['title'].count()\n",
    "    return {'País': pais, \n",
    "            'Cantidad de Peliculas': cantidad}"
   ]
  },
  {
   "cell_type": "code",
   "execution_count": null,
   "metadata": {},
   "outputs": [],
   "source": [
    "# Función que retorna la ganancia total y la cantidad de peliculas de una productora.\n",
    "# crea un conjunto vacio para guardar las compañias\n",
    "unique_company = set()\n",
    "\n",
    "# itera sobre cada fila en la columna de las compañias\n",
    "for row in movies['production_companies']:\n",
    "    unique_company.update(set(row))\n",
    "\n",
    "# convierte nuevamente el conjunto en una lista\n",
    "unique_company = [company.lower() for company in list(unique_company)]\n",
    "\n",
    "def productoras(productora):\n",
    "    productora_low = productora.lower()\n",
    "    if productora_low in unique_company:\n",
    "        # crear mascara\n",
    "        peli = movies['production_companies'].apply(lambda x: productora_low in [p.lower() for p in x])\n",
    "        # se usa la mascara para filtrar el datasets\n",
    "        cantidad = movies[peli]['title'].count()\n",
    "        ganancia = movies[peli]['revenue'].sum()\n",
    "        return {'Productora':productora, 'Ganancia_total':ganancia, 'Cantidad':cantidad}\n",
    "    else:\n",
    "        return 'Productora no válida'"
   ]
  },
  {
   "cell_type": "code",
   "execution_count": null,
   "metadata": {},
   "outputs": [],
   "source": [
    "# Función que muestra la inversión, la ganancia, el retorno y el año en el que se lanzó una película\n",
    "\n",
    "def retorno(pelicula):\n",
    "    peli = movies.loc[movies['title'] == pelicula] \n",
    "    inversion = peli['budget'].sum()\n",
    "    retorno = round(peli['return'].sum(),2)\n",
    "    anio = int(peli['release_year'])\n",
    "    ganancia = peli['revenue'].sum()\n",
    "    return {'Película': pelicula, 'Inversión':inversion, 'Ganancia':ganancia, 'Retorno':retorno, 'Año':anio}"
   ]
  }
 ],
 "metadata": {
  "kernelspec": {
   "display_name": "Python 3",
   "language": "python",
   "name": "python3"
  },
  "language_info": {
   "codemirror_mode": {
    "name": "ipython",
    "version": 3
   },
   "file_extension": ".py",
   "mimetype": "text/x-python",
   "name": "python",
   "nbconvert_exporter": "python",
   "pygments_lexer": "ipython3",
   "version": "3.11.1"
  },
  "orig_nbformat": 4
 },
 "nbformat": 4,
 "nbformat_minor": 2
}
